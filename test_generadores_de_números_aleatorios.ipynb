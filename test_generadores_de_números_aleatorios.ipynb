{
 "cells": [
  {
   "cell_type": "code",
   "execution_count": 1,
   "metadata": {},
   "outputs": [],
   "source": [
    "\"\"\"\n",
    "Tests para evaluar uniformidad e independencia de los generadores de números aleatorios\n",
    "\n",
    "Pueden ser:\n",
    "• Teóricos: los que trabajan con la expresión del generado, para evaluar a los generados si los\n",
    "números que generaría son uniformes e independientes\n",
    "• Empíricos: aquellos que trabajan con los números obtenidos del generador para verificar\n",
    "esas propiedades.\n",
    "\"\"\"\n",
    "\n",
    "from random import random\n",
    "import statistics\n",
    "import scipy\n",
    "import scipy.stats as ss\n",
    "from scipy.stats import chisquare\n",
    "import matplotlib.pyplot as plt\n",
    "\n",
    "#Para conectar con API de random.org\n",
    "import requests\n",
    "import json\n",
    "\n",
    "import math\n",
    "from scipy.stats import norm "
   ]
  },
  {
   "cell_type": "code",
   "execution_count": 2,
   "metadata": {},
   "outputs": [],
   "source": [
    "######## PUNTO 1 ########\n",
    "\n",
    "#Vamos a generar 10000 números aleatorios\n",
    "n = 10000\n",
    "def aleatorio():\n",
    "    return random()\n",
    "\n",
    "lista_num = []\n",
    "for i in range(n):\n",
    "    lista_num.append(aleatorio())"
   ]
  },
  {
   "cell_type": "code",
   "execution_count": 3,
   "metadata": {},
   "outputs": [
    {
     "data": {
      "image/png": "[encoded data removed]",
      "text/plain": [
       "<Figure size 432x288 with 1 Axes>"
      ]
     },
     "metadata": {
      "needs_background": "light"
     },
     "output_type": "display_data"
    },
    {
     "name": "stdout",
     "output_type": "stream",
     "text": [
      "Frecuencia absoluta intervalos: [1014. 1022. 1001.  935. 1045.  990.  998. 1023.  964. 1008.]\n",
      "Cantidad intervalos:  10\n"
     ]
    }
   ],
   "source": [
    "#Vamos a probar el Test empírico de Chi-cuadrado\n",
    "\n",
    "frec_absoluta,x,c = plt.hist(lista_num, edgecolor = 'black')\n",
    "plt.ylabel('frequencia')\n",
    "plt.xlabel('valores')\n",
    "plt.title('Histograma números aleatorios')\n",
    "plt.show()\n",
    "\n",
    "print('Frecuencia absoluta intervalos:',frec_absoluta)\n",
    "k = len(frec_absoluta)\n",
    "print('Cantidad intervalos: ',k)"
   ]
  },
  {
   "cell_type": "code",
   "execution_count": 4,
   "metadata": {},
   "outputs": [
    {
     "name": "stdout",
     "output_type": "stream",
     "text": [
      "Valor chi cuadrado de la muestra: Power_divergenceResult(statistic=8.924, pvalue=0.4443190879234138)\n"
     ]
    }
   ],
   "source": [
    "#Frecuencias esperadas\n",
    "frec_esp = []\n",
    "for i in range(k):\n",
    "    frec_esp.append(n/k)\n",
    "    \n",
    "#Calculamos la variable de chi cuadrado\n",
    "print('Valor chi cuadrado de la muestra:',chisquare(frec_absoluta, f_exp = frec_esp))\n",
    "\n",
    "#Si existe concordancia perfecta entre las frecuencias observadas y las esperadas el \n",
    "#estadístico tomará un valor igual a 0; por el contrario, si existe una gran discrepancias \n",
    "#entre estas frecuencias el estadístico tomará un valor grande y, en consecuencia, \n",
    "#se rechazará la hipótesis nula"
   ]
  },
  {
   "cell_type": "code",
   "execution_count": 5,
   "metadata": {},
   "outputs": [],
   "source": [
    "######## PUNTO 2 ########\n",
    "\n",
    "#Vamos a generar 10000 con GCL\n",
    "Z0 = 7\n",
    "m = 2**35\n",
    "a = 5**15\n",
    "c = 3\n",
    "\n",
    "def generador_congruencial(zi_menos1, m, a, c):\n",
    "    zi = (a*zi_menos1+c) % m\n",
    "    return zi\n",
    "\n",
    "zi_menos1 = Z0\n",
    "lista_gcl = []\n",
    "for i in range(1,n+1):\n",
    "    Zi = generador_congruencial(zi_menos1,m,a,c)\n",
    "    zi_menos1 = Zi\n",
    "    Ui = Zi/m\n",
    "    lista_gcl.append(Ui)"
   ]
  },
  {
   "cell_type": "code",
   "execution_count": 6,
   "metadata": {},
   "outputs": [
    {
     "data": {
      "image/png": "[encoded data removed]",
      "text/plain": [
       "<Figure size 432x288 with 1 Axes>"
      ]
     },
     "metadata": {
      "needs_background": "light"
     },
     "output_type": "display_data"
    },
    {
     "name": "stdout",
     "output_type": "stream",
     "text": [
      "Frecuencia absoluta intervalos: [ 880. 1001.  978. 1037. 1027. 1058.  992. 1019. 1018.  990.]\n",
      "Cantidad intervalos:  10\n"
     ]
    }
   ],
   "source": [
    "#Vamos a probar el Test empírico de Chi-cuadrado\n",
    "\n",
    "frec_absoluta_gcl,x,c = plt.hist(lista_gcl, edgecolor = 'black')\n",
    "plt.ylabel('frequencia')\n",
    "plt.xlabel('valores')\n",
    "plt.title('Histograma números aleatorios')\n",
    "plt.show()\n",
    "\n",
    "print('Frecuencia absoluta intervalos:',frec_absoluta_gcl)\n",
    "k = len(frec_absoluta_gcl)\n",
    "print('Cantidad intervalos: ',k)"
   ]
  },
  {
   "cell_type": "code",
   "execution_count": 7,
   "metadata": {},
   "outputs": [
    {
     "name": "stdout",
     "output_type": "stream",
     "text": [
      "Valor chi cuadrado de la muestra: Power_divergenceResult(statistic=21.196000000000005, pvalue=0.011808016253107335)\n"
     ]
    }
   ],
   "source": [
    "#Frecuencias esperadas\n",
    "frec_esp_gcl = []\n",
    "for i in range(k):\n",
    "    frec_esp_gcl.append(n/k)\n",
    "    \n",
    "#Calculamos la variable de chi cuadrado\n",
    "print('Valor chi cuadrado de la muestra:',chisquare(frec_absoluta_gcl, f_exp = frec_esp_gcl))"
   ]
  },
  {
   "cell_type": "code",
   "execution_count": 8,
   "metadata": {},
   "outputs": [],
   "source": [
    "######## PUNTO 3 ########\n",
    "\n",
    "#Vamos a conectarnos con un get a la api de random.org para generar los valores\n",
    "url = 'https://www.random.org/decimal-fractions/?num=10000&dec=10&col=1&format=plain&rnd=new'\n",
    "\n",
    "response = requests.get(url).text\n",
    "\n",
    "#print(response)"
   ]
  },
  {
   "cell_type": "code",
   "execution_count": 9,
   "metadata": {},
   "outputs": [],
   "source": [
    "lista_random_org = []\n",
    "for i in response.split(\"\\n\"):\n",
    "    try:\n",
    "        lista_random_org.append(float(i))\n",
    "    except:\n",
    "        pass\n",
    "#print(lista_random_org,len(lista_random_org))"
   ]
  },
  {
   "cell_type": "code",
   "execution_count": 10,
   "metadata": {},
   "outputs": [
    {
     "data": {
      "image/png": "[encoded data removed]",
      "text/plain": [
       "<Figure size 432x288 with 1 Axes>"
      ]
     },
     "metadata": {
      "needs_background": "light"
     },
     "output_type": "display_data"
    },
    {
     "name": "stdout",
     "output_type": "stream",
     "text": [
      "Frecuencia absoluta intervalos: [1027. 1002.  981. 1000. 1036. 1058.  968. 1014.  981.  933.]\n",
      "Cantidad intervalos:  10\n"
     ]
    }
   ],
   "source": [
    "#Vamos a probar el Test empírico de Chi-cuadrado\n",
    "\n",
    "frec_absoluta_random_org,x,c = plt.hist(lista_random_org, edgecolor = 'black')\n",
    "plt.ylabel('frequencia')\n",
    "plt.xlabel('valores')\n",
    "plt.title('Histograma números aleatorios')\n",
    "plt.show()\n",
    "\n",
    "print('Frecuencia absoluta intervalos:',frec_absoluta_random_org)\n",
    "k = len(frec_absoluta_random_org)\n",
    "print('Cantidad intervalos: ',k)"
   ]
  },
  {
   "cell_type": "code",
   "execution_count": 11,
   "metadata": {},
   "outputs": [
    {
     "name": "stdout",
     "output_type": "stream",
     "text": [
      "Valor chi cuadrado de la muestra: Power_divergenceResult(statistic=11.824, pvalue=0.22341420222535238)\n"
     ]
    }
   ],
   "source": [
    "#Frecuencias esperadas\n",
    "frec_esp_random_org = []\n",
    "for i in range(k):\n",
    "    frec_esp_random_org.append(n/k)\n",
    "    \n",
    "#Calculamos la variable de chi cuadrado\n",
    "print('Valor chi cuadrado de la muestra:',chisquare(frec_absoluta_random_org, f_exp = frec_esp_random_org))"
   ]
  },
  {
   "cell_type": "code",
   "execution_count": 12,
   "metadata": {},
   "outputs": [],
   "source": [
    "#Vamos a identificar subsecuencias crecientes y contínuas\n",
    "def calcular_subsecuencias(lista):\n",
    "    subsecuencias_menor_5 = 0\n",
    "    subsecuencias_mayor_6 = 0\n",
    "    n = len(lista)\n",
    "    for i in range(n-1):\n",
    "        cant = 0\n",
    "        if lista[i] < lista[i+1]:\n",
    "            j = i\n",
    "            while lista[j] < lista[j+1] and j < n-2:\n",
    "                cant += 1\n",
    "                j+=1\n",
    "            if cant <= 5:\n",
    "                subsecuencias_menor_5 += 1\n",
    "            else:\n",
    "                subsecuencias_mayor_6 +=1\n",
    "            i = j\n",
    "    print('Cantidas de subsecuencias crecientes de longitud <= 5:',subsecuencias_menor_5)\n",
    "    print('Cantidas de subsecuencias crecientes de longitud >= 6:',subsecuencias_mayor_6)\n",
    "    total_corridas = subsecuencias_menor_5 + subsecuencias_mayor_6\n",
    "    print('Total de subsecuencias corridas:',total_corridas)\n",
    "    \n",
    "    H0 = \"los números generados son independientes\"\n",
    "    H1 = \"los números generados no son independientes\"\n",
    "    print('\\nHipótesis 0:',H0)\n",
    "    print('\\nHipótesis 1:',H1)\n",
    "    \n",
    "    #Calculamos media y varianza del total de corridas\n",
    "\n",
    "    #tomamos alfa\n",
    "    alfa = 0.05\n",
    "    alfa_2 = alfa/2\n",
    "    print('\\nAlfa:',alfa)\n",
    "    print('Alfa sobre 2:',alfa_2)\n",
    "    Za2 =  1.96 #Z alfa/2\n",
    "    print('Z alfa sobre 2:',Za2)\n",
    "    \n",
    "    mu = (2*n-1)/3\n",
    "    print('Esperanza:',mu)\n",
    "    sigma2 = (16*n-29)/90\n",
    "    print('Varianza:',sigma2)\n",
    "    sigma = math.sqrt(sigma2)\n",
    "    print('Desvío:',sigma,'\\n')\n",
    "\n",
    "    #Si n > 0, por el TCL, la distribución se aproxima a una normal N(0,1)\n",
    "    Z0 = abs((total_corridas-mu)/sigma)\n",
    "    print('Z0:', Z0)\n",
    "   \n",
    "    if Z0 < Za2:\n",
    "        generador_independiente = True\n",
    "        print('\\nNo se puede rechazar la hipótesis de que los datos son independientes')\n",
    "    else:\n",
    "        generador_independiente = False\n",
    "        print('\\nSe tiene evidencia de que los datos son dependientes, se rechaza el generador')\n",
    "    #return generador_independiente"
   ]
  },
  {
   "cell_type": "code",
   "execution_count": 13,
   "metadata": {},
   "outputs": [
    {
     "name": "stdout",
     "output_type": "stream",
     "text": [
      "Cantidas de subsecuencias crecientes de longitud <= 5: 5035\n",
      "Cantidas de subsecuencias crecientes de longitud >= 6: 2\n",
      "Total de subsecuencias corridas: 5037\n",
      "\n",
      "Hipótesis 0: los números generados son independientes\n",
      "\n",
      "Hipótesis 1: los números generados no son independientes\n",
      "\n",
      "Alfa: 0.05\n",
      "Alfa sobre 2: 0.025\n",
      "Z alfa sobre 2: 1.96\n",
      "Esperanza: 6666.333333333333\n",
      "Varianza: 1777.4555555555555\n",
      "Desvío: 42.159880876913725 \n",
      "\n",
      "Z0: 38.64653550825229\n",
      "\n",
      "Se tiene evidencia de que los datos son dependientes, se rechaza el generador\n"
     ]
    }
   ],
   "source": [
    "######## PUNTO 4 ########\n",
    "\n",
    "calcular_subsecuencias(lista_num)"
   ]
  },
  {
   "cell_type": "code",
   "execution_count": 14,
   "metadata": {},
   "outputs": [
    {
     "name": "stdout",
     "output_type": "stream",
     "text": [
      "Cantidas de subsecuencias crecientes de longitud <= 5: 5026\n",
      "Cantidas de subsecuencias crecientes de longitud >= 6: 2\n",
      "Total de subsecuencias corridas: 5028\n",
      "\n",
      "Hipótesis 0: los números generados son independientes\n",
      "\n",
      "Hipótesis 1: los números generados no son independientes\n",
      "\n",
      "Alfa: 0.05\n",
      "Alfa sobre 2: 0.025\n",
      "Z alfa sobre 2: 1.96\n",
      "Esperanza: 6666.333333333333\n",
      "Varianza: 1777.4555555555555\n",
      "Desvío: 42.159880876913725 \n",
      "\n",
      "Z0: 38.86000859718904\n",
      "\n",
      "Se tiene evidencia de que los datos son dependientes, se rechaza el generador\n"
     ]
    }
   ],
   "source": [
    "######## PUNTO 5 ########\n",
    "\n",
    "calcular_subsecuencias(lista_gcl)"
   ]
  },
  {
   "cell_type": "code",
   "execution_count": 15,
   "metadata": {},
   "outputs": [
    {
     "name": "stdout",
     "output_type": "stream",
     "text": [
      "Cantidas de subsecuencias crecientes de longitud <= 5: 5028\n",
      "Cantidas de subsecuencias crecientes de longitud >= 6: 3\n",
      "Total de subsecuencias corridas: 5031\n",
      "\n",
      "Hipótesis 0: los números generados son independientes\n",
      "\n",
      "Hipótesis 1: los números generados no son independientes\n",
      "\n",
      "Alfa: 0.05\n",
      "Alfa sobre 2: 0.025\n",
      "Z alfa sobre 2: 1.96\n",
      "Esperanza: 6666.333333333333\n",
      "Varianza: 1777.4555555555555\n",
      "Desvío: 42.159880876913725 \n",
      "\n",
      "Z0: 38.78885090087679\n",
      "\n",
      "Se tiene evidencia de que los datos son dependientes, se rechaza el generador\n"
     ]
    }
   ],
   "source": [
    "######## PUNTO 6 ########\n",
    "calcular_subsecuencias(lista_random_org)"
   ]
  },
  {
   "cell_type": "code",
   "execution_count": 16,
   "metadata": {},
   "outputs": [
    {
     "name": "stdout",
     "output_type": "stream",
     "text": [
      "Valor chi cuadrado de la muestra: Power_divergenceResult(statistic=0.0, pvalue=1.0)\n"
     ]
    }
   ],
   "source": []
  },
  {
   "cell_type": "code",
   "execution_count": null,
   "metadata": {},
   "outputs": [],
   "source": []
  }
 ],
 "metadata": {
  "kernelspec": {
   "display_name": "Python 3",
   "language": "python",
   "name": "python3"
  },
  "language_info": {
   "codemirror_mode": {
    "name": "ipython",
    "version": 3
   },
   "file_extension": ".py",
   "mimetype": "text/x-python",
   "name": "python",
   "nbconvert_exporter": "python",
   "pygments_lexer": "ipython3",
   "version": "3.6.7"
  }
 },
 "nbformat": 4,
 "nbformat_minor": 2
}
