{
 "cells": [
  {
   "cell_type": "code",
   "execution_count": 44,
   "metadata": {},
   "outputs": [],
   "source": [
    "\"\"\"\n",
    "Tests para evaluar uniformidad e independencia de los generadores de números aleatorios\n",
    "\n",
    "Pueden ser:\n",
    "• Teóricos: los que trabajan con la expresión del generado, para evaluar a los generados si los\n",
    "números que generaría son uniformes e independientes\n",
    "• Empíricos: aquellos que trabajan con los números obtenidos del generador para verificar\n",
    "esas propiedades.\n",
    "\"\"\"\n",
    "\n",
    "from random import random\n",
    "import statistics\n",
    "import scipy\n",
    "from scipy.stats import chisquare"
   ]
  },
  {
   "cell_type": "code",
   "execution_count": 13,
   "metadata": {},
   "outputs": [],
   "source": [
    "#Vamos a generar 10000 números aleatorios\n",
    "n = 10000\n",
    "def aleatorio():\n",
    "    return random()\n",
    "\n",
    "lista_num = []\n",
    "for i in range(n):\n",
    "    lista_num.append(aleatorio())"
   ]
  },
  {
   "cell_type": "code",
   "execution_count": 42,
   "metadata": {},
   "outputs": [
    {
     "name": "stdout",
     "output_type": "stream",
     "text": [
      "Paso 1: k subintervalos [[0, 0.125], [0.125, 0.25], [0.25, 0.375], [0.375, 0.5], [0.5, 0.625], [0.625, 0.75], [0.75, 0.875], [0.875, 1.0]] \n",
      "\n",
      "Paso: 3\n",
      "Frecuencia absoluta intervalo_0: 1256\n",
      "Frecuencia absoluta intervalo_1: 1227\n",
      "Frecuencia absoluta intervalo_2: 1267\n",
      "Frecuencia absoluta intervalo_3: 1283\n",
      "Frecuencia absoluta intervalo_4: 1212\n",
      "Frecuencia absoluta intervalo_5: 1265\n",
      "Frecuencia absoluta intervalo_6: 1244\n",
      "Frecuencia absoluta intervalo_7: 1246\n",
      "\n",
      "\n",
      "Paso: 4\n",
      "Variable de chi cuadrado X2 para k=8: 2.9312 \n",
      "\n",
      "Paso: 5\n",
      "Variable de chi cuadrado X2 para k=7: 157.80360000000016 \n",
      "\n"
     ]
    }
   ],
   "source": [
    "#Aplicar el test de chi-cuadrado a 10000 generados por la función aleatorio()\n",
    "#Test empírico de Chi-cuadrado:\n",
    "\n",
    "#Paso 1:\n",
    "#Dividir el intervalo ( 0 , 1 ) en k subintervalos de igual longitud con k >= 5\n",
    "#Tomamos cualquier k\n",
    "k = 8\n",
    "intervalos = []\n",
    "j = 0\n",
    "for i in range(k):\n",
    "    intervalos.append([j,j+1/k])\n",
    "    j += 1/8\n",
    "print('Paso 1: k subintervalos',intervalos,'\\n')\n",
    "\n",
    "#Paso 2:\n",
    "#Generar Ui con i = 1,n con n determinado de manera n/k >= 5\n",
    "#Ui = Zi/m\n",
    "m = k*5\n",
    "lista_Ui = []\n",
    "for i in lista_num:\n",
    "    lista_Ui.append(i/m)\n",
    "\n",
    "#Paso 3:\n",
    "#Calcular fj donde fj es la frecuencia absoluta de la cantidad de Ui que\n",
    "#cayeron en el intervalo j\n",
    "dic_valores_intervalo = {}\n",
    "for j in intervalos:\n",
    "    dic_valores_intervalo[\"intervalo_{}\".format(intervalos.index(j))] = []\n",
    "\n",
    "for i in lista_num:\n",
    "    for j in intervalos:\n",
    "        if i <= j[1] and i >= j[0]:\n",
    "            dic_valores_intervalo[\"intervalo_{}\".format(intervalos.index(j))].append(i) \n",
    "#Calculamos fj\n",
    "print(\"Paso: 3\")\n",
    "frecuencias_absolutas = []\n",
    "for j in dic_valores_intervalo:\n",
    "    lista = dic_valores_intervalo[j]\n",
    "    frecuencias_absolutas.append(len(lista))\n",
    "    print(\"Frecuencia absoluta {}:\".format(j),len(lista))\n",
    "print('\\n')    \n",
    "\n",
    "#Paso 4:\n",
    "#Calcular la variable de chi cuadrado\n",
    "#X2 = (k/n)*SUMj:1..k(fj-n/k)**2\n",
    "suma = 0\n",
    "for j in range(1,k+1):\n",
    "    suma += (frecuencias_absolutas[j-1]-n/k)**2\n",
    "X2 = (k/n)*suma\n",
    "print(\"Paso: 4\")\n",
    "print(\"Variable de chi cuadrado X2 para k={}:\".format(k),X2,'\\n')\n",
    "\n",
    "#Paso 5:\n",
    "print(\"Paso: 5\")\n",
    "suma_2 = 0\n",
    "k_2 = k-1\n",
    "for j in range(1,k_2+1):\n",
    "    suma_2 += (frecuencias_absolutas[j-1]-n/k_2)**2\n",
    "X2_2 = (k_2/n)*suma_2\n",
    "print(\"Variable de chi cuadrado X2 para k={}:\".format(k_2),X2_2,'\\n')"
   ]
  },
  {
   "cell_type": "code",
   "execution_count": 45,
   "metadata": {},
   "outputs": [
    {
     "data": {
      "text/plain": [
       "Power_divergenceResult(statistic=1662.0854494867735, pvalue=1.0)"
      ]
     },
     "execution_count": 45,
     "metadata": {},
     "output_type": "execute_result"
    }
   ],
   "source": [
    "chisquare(lista_num)"
   ]
  },
  {
   "cell_type": "code",
   "execution_count": null,
   "metadata": {},
   "outputs": [],
   "source": []
  },
  {
   "cell_type": "code",
   "execution_count": null,
   "metadata": {},
   "outputs": [],
   "source": []
  }
 ],
 "metadata": {
  "kernelspec": {
   "display_name": "Python 3",
   "language": "python",
   "name": "python3"
  },
  "language_info": {
   "codemirror_mode": {
    "name": "ipython",
    "version": 3
   },
   "file_extension": ".py",
   "mimetype": "text/x-python",
   "name": "python",
   "nbconvert_exporter": "python",
   "pygments_lexer": "ipython3",
   "version": "3.6.7"
  }
 },
 "nbformat": 4,
 "nbformat_minor": 2
}
